{
 "cells": [
  {
   "cell_type": "markdown",
   "id": "4d44eaf2",
   "metadata": {},
   "source": [
    "# Yelp review analysis \n",
    "This is a coding challenge application for fellowship.ai\n",
    "\n",
    "## 1. Challenge \n",
    "Perform Sentiment analysis on Yelp reviews - Full. Do a thorough Exploratory Data Analysis of the dataset and report the final performance metrics for your approach. Suggest ways in which you can improve the model.\n",
    "\n",
    "## 2. Data source description \n",
    "The Yelp reviews full star dataset is constructed by randomly taking 130,000 training samples and 10,000 testing samples for each review star from 1 to 5. In total there are 650,000 trainig samples and 50,000 testing samples.\n",
    "\n",
    "The files train.csv and test.csv contain all the training samples as comma-sparated values. There are 2 columns in them, corresponding to class index (1 to 5) and review text. The review texts are escaped using double quotes (\"), and any internal double quote is escaped by 2 double quotes (\"\"). New lines are escaped by a backslash followed with an \"n\" character, that is \"\\n\".\n",
    "\n",
    "Data source link: https://course.fast.ai/datasets\n",
    "\n",
    "## 3. Evaluation \n",
    "\n",
    "> My goal is to attain atleast 95% accuracy using accessible machine learning models for the sentiment analysis\n",
    "\n",
    "## 4. Preparing the tools"
   ]
  },
  {
   "cell_type": "code",
   "execution_count": 97,
   "id": "efaeebfc",
   "metadata": {},
   "outputs": [],
   "source": [
    "# Import all the tools we need\n",
    "\n",
    "# Regular EDA (Exploratory data analysis) and plotting libraries \n",
    "import numpy as np\n",
    "import pandas as pd\n",
    "import matplotlib.pyplot as plt\n",
    "import seaborn as sns\n",
    "import nltk\n",
    "#we want our plot to appear inside the notebook\n",
    "%matplotlib inline\n",
    "# Model from Scikit-Learn \n",
    "from sklearn.linear_model import LogisticRegression\n",
    "from sklearn.neighbors import KNeighborsClassifier\n",
    "from sklearn.ensemble import RandomForestClassifier\n",
    "\n",
    "# Model Evaluations\n",
    "from sklearn.model_selection import train_test_split, cross_val_score\n",
    "from sklearn.model_selection import RandomizedSearchCV, GridSearchCV\n",
    "from sklearn.metrics import confusion_matrix, classification_report\n",
    "from sklearn.metrics import precision_score, recall_score, f1_score\n",
    "from sklearn.metrics import plot_roc_curve\n",
    "\n",
    "from sklearn.feature_extraction.text import CountVectorizer\n",
    "from sklearn.model_selection import train_test_split, cross_val_score\n",
    "from sklearn.metrics import classification_report\n",
    "from sklearn.metrics import confusion_matrix, accuracy_score, roc_auc_score, roc_curve\n",
    "#from sklearn.grid_search import GridSearchCV"
   ]
  },
  {
   "cell_type": "markdown",
   "id": "474f3a01",
   "metadata": {},
   "source": [
    "## 5. Getting the dataset into notebook"
   ]
  },
  {
   "cell_type": "code",
   "execution_count": 2,
   "id": "0cb4cac3",
   "metadata": {},
   "outputs": [
    {
     "name": "stdout",
     "output_type": "stream",
     "text": [
      "/Users/henrickaduda/Downloads/sample_project/Projects/yelp_review_full_csv\n"
     ]
    }
   ],
   "source": [
    "## Changing into relevant data directory (Change according to data directory)\n",
    "cd yelp_review_full_csv/"
   ]
  },
  {
   "cell_type": "code",
   "execution_count": 46,
   "id": "f898d3ba",
   "metadata": {},
   "outputs": [],
   "source": [
    "# Getting the dataset and adding in headers\n",
    "yelp_reviews = pd.read_csv(\"train.csv\", names= [\"Stars\", \"Reviews\"], nrows=26000)"
   ]
  },
  {
   "cell_type": "code",
   "execution_count": 48,
   "id": "132342de",
   "metadata": {},
   "outputs": [],
   "source": [
    "# Shuffle dataframe\n",
    "yelp_reviews = yelp_reviews.sample(frac = 1)"
   ]
  },
  {
   "cell_type": "markdown",
   "id": "de0c6b6f",
   "metadata": {},
   "source": [
    "## 6. Exploratory Data analysis"
   ]
  },
  {
   "cell_type": "code",
   "execution_count": 49,
   "id": "97f5c31c",
   "metadata": {},
   "outputs": [
    {
     "data": {
      "text/html": [
       "<div>\n",
       "<style scoped>\n",
       "    .dataframe tbody tr th:only-of-type {\n",
       "        vertical-align: middle;\n",
       "    }\n",
       "\n",
       "    .dataframe tbody tr th {\n",
       "        vertical-align: top;\n",
       "    }\n",
       "\n",
       "    .dataframe thead th {\n",
       "        text-align: right;\n",
       "    }\n",
       "</style>\n",
       "<table border=\"1\" class=\"dataframe\">\n",
       "  <thead>\n",
       "    <tr style=\"text-align: right;\">\n",
       "      <th></th>\n",
       "      <th>Stars</th>\n",
       "      <th>Reviews</th>\n",
       "    </tr>\n",
       "  </thead>\n",
       "  <tbody>\n",
       "    <tr>\n",
       "      <th>7178</th>\n",
       "      <td>4</td>\n",
       "      <td>Awesome meal - flavorful food, large portions,...</td>\n",
       "    </tr>\n",
       "    <tr>\n",
       "      <th>10734</th>\n",
       "      <td>3</td>\n",
       "      <td>If you go here for the muffins only,  it's 5 s...</td>\n",
       "    </tr>\n",
       "    <tr>\n",
       "      <th>18937</th>\n",
       "      <td>2</td>\n",
       "      <td>We call this Gay Denny's or Jenny's. \\n\\nIt's ...</td>\n",
       "    </tr>\n",
       "    <tr>\n",
       "      <th>18328</th>\n",
       "      <td>4</td>\n",
       "      <td>Loved the feel of this place. I had Suki Udon ...</td>\n",
       "    </tr>\n",
       "    <tr>\n",
       "      <th>18240</th>\n",
       "      <td>4</td>\n",
       "      <td>Service is not why you should visit this joint...</td>\n",
       "    </tr>\n",
       "  </tbody>\n",
       "</table>\n",
       "</div>"
      ],
      "text/plain": [
       "       Stars                                            Reviews\n",
       "7178       4  Awesome meal - flavorful food, large portions,...\n",
       "10734      3  If you go here for the muffins only,  it's 5 s...\n",
       "18937      2  We call this Gay Denny's or Jenny's. \\n\\nIt's ...\n",
       "18328      4  Loved the feel of this place. I had Suki Udon ...\n",
       "18240      4  Service is not why you should visit this joint..."
      ]
     },
     "execution_count": 49,
     "metadata": {},
     "output_type": "execute_result"
    }
   ],
   "source": [
    "# Checking data frame \n",
    "yelp_reviews.head()"
   ]
  },
  {
   "cell_type": "code",
   "execution_count": 50,
   "id": "81b2afe5",
   "metadata": {},
   "outputs": [
    {
     "data": {
      "text/plain": [
       "3    5484\n",
       "2    5413\n",
       "4    5277\n",
       "1    5039\n",
       "5    4787\n",
       "Name: Stars, dtype: int64"
      ]
     },
     "execution_count": 50,
     "metadata": {},
     "output_type": "execute_result"
    }
   ],
   "source": [
    "# Frequency of customer  star ratings in train data\n",
    "yelp_reviews.Stars.value_counts()"
   ]
  },
  {
   "cell_type": "code",
   "execution_count": 52,
   "id": "a2f51208",
   "metadata": {},
   "outputs": [
    {
     "data": {
      "text/html": [
       "<div>\n",
       "<style scoped>\n",
       "    .dataframe tbody tr th:only-of-type {\n",
       "        vertical-align: middle;\n",
       "    }\n",
       "\n",
       "    .dataframe tbody tr th {\n",
       "        vertical-align: top;\n",
       "    }\n",
       "\n",
       "    .dataframe thead th {\n",
       "        text-align: right;\n",
       "    }\n",
       "</style>\n",
       "<table border=\"1\" class=\"dataframe\">\n",
       "  <thead>\n",
       "    <tr style=\"text-align: right;\">\n",
       "      <th></th>\n",
       "      <th>Stars</th>\n",
       "    </tr>\n",
       "  </thead>\n",
       "  <tbody>\n",
       "    <tr>\n",
       "      <th>count</th>\n",
       "      <td>26000.000000</td>\n",
       "    </tr>\n",
       "    <tr>\n",
       "      <th>mean</th>\n",
       "      <td>2.975385</td>\n",
       "    </tr>\n",
       "    <tr>\n",
       "      <th>std</th>\n",
       "      <td>1.386475</td>\n",
       "    </tr>\n",
       "    <tr>\n",
       "      <th>min</th>\n",
       "      <td>1.000000</td>\n",
       "    </tr>\n",
       "    <tr>\n",
       "      <th>25%</th>\n",
       "      <td>2.000000</td>\n",
       "    </tr>\n",
       "    <tr>\n",
       "      <th>50%</th>\n",
       "      <td>3.000000</td>\n",
       "    </tr>\n",
       "    <tr>\n",
       "      <th>75%</th>\n",
       "      <td>4.000000</td>\n",
       "    </tr>\n",
       "    <tr>\n",
       "      <th>max</th>\n",
       "      <td>5.000000</td>\n",
       "    </tr>\n",
       "  </tbody>\n",
       "</table>\n",
       "</div>"
      ],
      "text/plain": [
       "              Stars\n",
       "count  26000.000000\n",
       "mean       2.975385\n",
       "std        1.386475\n",
       "min        1.000000\n",
       "25%        2.000000\n",
       "50%        3.000000\n",
       "75%        4.000000\n",
       "max        5.000000"
      ]
     },
     "execution_count": 52,
     "metadata": {},
     "output_type": "execute_result"
    }
   ],
   "source": [
    "# Brief overivew of datsset\n",
    "yelp_reviews.describe()"
   ]
  },
  {
   "cell_type": "code",
   "execution_count": 53,
   "id": "22bdea77",
   "metadata": {},
   "outputs": [
    {
     "name": "stdout",
     "output_type": "stream",
     "text": [
      "<class 'pandas.core.frame.DataFrame'>\n",
      "Int64Index: 26000 entries, 7178 to 22248\n",
      "Data columns (total 2 columns):\n",
      " #   Column   Non-Null Count  Dtype \n",
      "---  ------   --------------  ----- \n",
      " 0   Stars    26000 non-null  int64 \n",
      " 1   Reviews  26000 non-null  object\n",
      "dtypes: int64(1), object(1)\n",
      "memory usage: 1.6+ MB\n"
     ]
    }
   ],
   "source": [
    "# Checking for datatypes and null values in dataset\n",
    "yelp_reviews.info()"
   ]
  },
  {
   "cell_type": "code",
   "execution_count": 54,
   "id": "f8eea513",
   "metadata": {},
   "outputs": [
    {
     "data": {
      "text/plain": [
       "Stars       int64\n",
       "Reviews    object\n",
       "dtype: object"
      ]
     },
     "execution_count": 54,
     "metadata": {},
     "output_type": "execute_result"
    }
   ],
   "source": [
    "# Checking datatypes of columns\n",
    "yelp_reviews.dtypes"
   ]
  },
  {
   "cell_type": "code",
   "execution_count": 58,
   "id": "8454b3a7",
   "metadata": {},
   "outputs": [
    {
     "data": {
      "image/png": "[encoded data removed]",
      "text/plain": [
       "<Figure size 432x288 with 1 Axes>"
      ]
     },
     "metadata": {
      "needs_background": "light"
     },
     "output_type": "display_data"
    }
   ],
   "source": [
    "# Displaying the frequency of customer ratings in train data\n",
    "import seaborn as sns\n",
    "import matplotlib.pyplot as plt\n",
    "ax = sns.barplot(data=yelp_reviews, x='Stars', y='Stars', estimator=lambda x: len(x) / len(yelp_reviews) * 100)\n",
    "ax.set(ylabel=\"Percentage %\")\n",
    "plt.title('Distribution of Yelp Customer Star ratings in train dataset')\n",
    "plt.show();"
   ]
  },
  {
   "cell_type": "code",
   "execution_count": 62,
   "id": "1856e1e2",
   "metadata": {},
   "outputs": [
    {
     "data": {
      "text/html": [
       "<div>\n",
       "<style scoped>\n",
       "    .dataframe tbody tr th:only-of-type {\n",
       "        vertical-align: middle;\n",
       "    }\n",
       "\n",
       "    .dataframe tbody tr th {\n",
       "        vertical-align: top;\n",
       "    }\n",
       "\n",
       "    .dataframe thead th {\n",
       "        text-align: right;\n",
       "    }\n",
       "</style>\n",
       "<table border=\"1\" class=\"dataframe\">\n",
       "  <thead>\n",
       "    <tr style=\"text-align: right;\">\n",
       "      <th></th>\n",
       "      <th>Stars</th>\n",
       "      <th>Reviews</th>\n",
       "      <th>length</th>\n",
       "    </tr>\n",
       "  </thead>\n",
       "  <tbody>\n",
       "    <tr>\n",
       "      <th>7178</th>\n",
       "      <td>4</td>\n",
       "      <td>Awesome meal - flavorful food, large portions,...</td>\n",
       "      <td>192</td>\n",
       "    </tr>\n",
       "    <tr>\n",
       "      <th>10734</th>\n",
       "      <td>3</td>\n",
       "      <td>If you go here for the muffins only,  it's 5 s...</td>\n",
       "      <td>241</td>\n",
       "    </tr>\n",
       "    <tr>\n",
       "      <th>18937</th>\n",
       "      <td>2</td>\n",
       "      <td>We call this Gay Denny's or Jenny's. \\n\\nIt's ...</td>\n",
       "      <td>388</td>\n",
       "    </tr>\n",
       "    <tr>\n",
       "      <th>18328</th>\n",
       "      <td>4</td>\n",
       "      <td>Loved the feel of this place. I had Suki Udon ...</td>\n",
       "      <td>322</td>\n",
       "    </tr>\n",
       "    <tr>\n",
       "      <th>18240</th>\n",
       "      <td>4</td>\n",
       "      <td>Service is not why you should visit this joint...</td>\n",
       "      <td>417</td>\n",
       "    </tr>\n",
       "  </tbody>\n",
       "</table>\n",
       "</div>"
      ],
      "text/plain": [
       "       Stars                                            Reviews  length\n",
       "7178       4  Awesome meal - flavorful food, large portions,...     192\n",
       "10734      3  If you go here for the muffins only,  it's 5 s...     241\n",
       "18937      2  We call this Gay Denny's or Jenny's. \\n\\nIt's ...     388\n",
       "18328      4  Loved the feel of this place. I had Suki Udon ...     322\n",
       "18240      4  Service is not why you should visit this joint...     417"
      ]
     },
     "execution_count": 62,
     "metadata": {},
     "output_type": "execute_result"
    }
   ],
   "source": [
    "#CREATING A NEW COLUMN IN THE DATASET FOR THE NUMBER OF WORDS IN THE REVIEW\n",
    "yelp_reviews['length'] = yelp_reviews['Reviews'].apply(len)\n",
    "yelp_reviews.head()"
   ]
  },
  {
   "cell_type": "code",
   "execution_count": 78,
   "id": "ee5adb70",
   "metadata": {},
   "outputs": [
    {
     "data": {
      "image/png": "[encoded data removed]",
      "text/plain": [
       "<Figure size 1080x216 with 5 Axes>"
      ]
     },
     "metadata": {
      "needs_background": "light"
     },
     "output_type": "display_data"
    }
   ],
   "source": [
    "# COMPARING TEXT LENGTH TO STARS\n",
    "graph = sns.FacetGrid(data=yelp_reviews,col='Stars')\n",
    "graph.map(plt.hist,'length',bins=50,color='orange');"
   ]
  },
  {
   "cell_type": "code",
   "execution_count": 67,
   "id": "aa40fd2d",
   "metadata": {},
   "outputs": [
    {
     "name": "stdout",
     "output_type": "stream",
     "text": [
      "(15310, 3)\n",
      "7178     Awesome meal - flavorful food, large portions,...\n",
      "10734    If you go here for the muffins only,  it's 5 s...\n",
      "18937    We call this Gay Denny's or Jenny's. \\n\\nIt's ...\n",
      "18328    Loved the feel of this place. I had Suki Udon ...\n",
      "18240    Service is not why you should visit this joint...\n",
      "Name: Reviews, dtype: object\n",
      "7178     4\n",
      "10734    3\n",
      "18937    2\n",
      "18328    4\n",
      "18240    4\n",
      "Name: Stars, dtype: int64\n"
     ]
    }
   ],
   "source": [
    "# CLASSIFICATION\n",
    "yelp_reviews_classes = yelp_reviews[(yelp_reviews['Stars']==1) | (yelp_reviews['Stars']==3) | (yelp_reviews['Stars']==5)]\n",
    "yelp_reviews.head()\n",
    "print(yelp_reviews_classes.shape)\n",
    "\n",
    "# Seperate the dataset into X and Y for prediction\n",
    "x = yelp_reviews['Reviews']\n",
    "y = yelp_reviews['Stars']\n",
    "print(x.head())\n",
    "print(y.head())"
   ]
  },
  {
   "cell_type": "code",
   "execution_count": 81,
   "id": "ecf3eda1",
   "metadata": {},
   "outputs": [],
   "source": [
    "# adding in stop words ( words that are not meaningful for the text analysis)\n",
    "# from previous yelp review analysis words like super, duper and place were considered uncessary\n",
    "from nltk.corpus import stopwords\n",
    "from sklearn.feature_extraction._stop_words import ENGLISH_STOP_WORDS\n",
    "my_stop_words = set(stopwords.words('english') + list(ENGLISH_STOP_WORDS) + ['an', 'the', 'place'])"
   ]
  },
  {
   "cell_type": "markdown",
   "id": "c619ee1b",
   "metadata": {},
   "source": [
    "### Word cloud "
   ]
  },
  {
   "cell_type": "code",
   "execution_count": 14,
   "id": "49fcc801",
   "metadata": {},
   "outputs": [
    {
     "data": {
      "image/png": "[encoded data removed]",
      "text/plain": [
       "<Figure size 432x288 with 1 Axes>"
      ]
     },
     "metadata": {
      "needs_background": "light"
     },
     "output_type": "display_data"
    },
    {
     "data": {
      "text/plain": [
       "<Figure size 432x288 with 0 Axes>"
      ]
     },
     "metadata": {},
     "output_type": "display_data"
    }
   ],
   "source": [
    "# Building a word cloud to highlight words with high frequency in rview data\n",
    "# import relevant library\n",
    "from wordcloud import WordCloud\n",
    "# concatenate all the reviews into one single string \n",
    "full_text = ' '.join(yelp_reviews['Reviews'])\n",
    "cloud_no_stopword = WordCloud(background_color='white', stopwords=my_stop_words).generate(full_text)\n",
    "plt.imshow(cloud_no_stopword, interpolation='bilinear')\n",
    "plt.axis('off')\n",
    "plt.show()\n",
    "plt.savefig(\"yelp_review_word_cloud.jpg\")"
   ]
  },
  {
   "cell_type": "code",
   "execution_count": 15,
   "id": "d1f84054",
   "metadata": {},
   "outputs": [
    {
     "data": {
      "text/plain": [
       "<wordcloud.wordcloud.WordCloud at 0x7f96d1ce0c10>"
      ]
     },
     "execution_count": 15,
     "metadata": {},
     "output_type": "execute_result"
    }
   ],
   "source": [
    "cloud_no_stopword.to_file('yelp_review_world_cloud.jpg')"
   ]
  },
  {
   "cell_type": "markdown",
   "id": "aafc0b44",
   "metadata": {},
   "source": [
    "### Most frequent words "
   ]
  },
  {
   "cell_type": "code",
   "execution_count": 16,
   "id": "ea1490f3",
   "metadata": {},
   "outputs": [],
   "source": [
    "# tokenization - to find the most frequent words in the review data\n",
    "from nltk.tokenize import word_tokenize\n",
    "from nltk import FreqDist\n",
    "lower_full_text = full_text.lower()\n",
    "word_tokens = word_tokenize(lower_full_text)\n",
    "tokens = list()\n",
    "for word in word_tokens:\n",
    "    if word.isalpha() and word not in my_stop_words:\n",
    "        tokens.append(word)\n",
    "token_dist = FreqDist(tokens)\n",
    "dist = pd.DataFrame(token_dist.most_common(20),columns=['Word', 'Frequency'])"
   ]
  },
  {
   "cell_type": "code",
   "execution_count": 17,
   "id": "e1e055e2",
   "metadata": {},
   "outputs": [
    {
     "data": {
      "text/html": [
       "<div>\n",
       "<style scoped>\n",
       "    .dataframe tbody tr th:only-of-type {\n",
       "        vertical-align: middle;\n",
       "    }\n",
       "\n",
       "    .dataframe tbody tr th {\n",
       "        vertical-align: top;\n",
       "    }\n",
       "\n",
       "    .dataframe thead th {\n",
       "        text-align: right;\n",
       "    }\n",
       "</style>\n",
       "<table border=\"1\" class=\"dataframe\">\n",
       "  <thead>\n",
       "    <tr style=\"text-align: right;\">\n",
       "      <th></th>\n",
       "      <th>Word</th>\n",
       "      <th>Frequency</th>\n",
       "    </tr>\n",
       "  </thead>\n",
       "  <tbody>\n",
       "    <tr>\n",
       "      <th>0</th>\n",
       "      <td>food</td>\n",
       "      <td>15340</td>\n",
       "    </tr>\n",
       "    <tr>\n",
       "      <th>1</th>\n",
       "      <td>good</td>\n",
       "      <td>14868</td>\n",
       "    </tr>\n",
       "    <tr>\n",
       "      <th>2</th>\n",
       "      <td>like</td>\n",
       "      <td>12228</td>\n",
       "    </tr>\n",
       "    <tr>\n",
       "      <th>3</th>\n",
       "      <td>time</td>\n",
       "      <td>9289</td>\n",
       "    </tr>\n",
       "    <tr>\n",
       "      <th>4</th>\n",
       "      <td>great</td>\n",
       "      <td>9142</td>\n",
       "    </tr>\n",
       "    <tr>\n",
       "      <th>5</th>\n",
       "      <td>service</td>\n",
       "      <td>8624</td>\n",
       "    </tr>\n",
       "    <tr>\n",
       "      <th>6</th>\n",
       "      <td>really</td>\n",
       "      <td>7981</td>\n",
       "    </tr>\n",
       "    <tr>\n",
       "      <th>7</th>\n",
       "      <td>got</td>\n",
       "      <td>5414</td>\n",
       "    </tr>\n",
       "    <tr>\n",
       "      <th>8</th>\n",
       "      <td>nice</td>\n",
       "      <td>5062</td>\n",
       "    </tr>\n",
       "    <tr>\n",
       "      <th>9</th>\n",
       "      <td>ordered</td>\n",
       "      <td>4775</td>\n",
       "    </tr>\n",
       "    <tr>\n",
       "      <th>10</th>\n",
       "      <td>little</td>\n",
       "      <td>4620</td>\n",
       "    </tr>\n",
       "    <tr>\n",
       "      <th>11</th>\n",
       "      <td>people</td>\n",
       "      <td>4540</td>\n",
       "    </tr>\n",
       "    <tr>\n",
       "      <th>12</th>\n",
       "      <td>went</td>\n",
       "      <td>4527</td>\n",
       "    </tr>\n",
       "    <tr>\n",
       "      <th>13</th>\n",
       "      <td>restaurant</td>\n",
       "      <td>4483</td>\n",
       "    </tr>\n",
       "    <tr>\n",
       "      <th>14</th>\n",
       "      <td>pretty</td>\n",
       "      <td>4410</td>\n",
       "    </tr>\n",
       "    <tr>\n",
       "      <th>15</th>\n",
       "      <td>order</td>\n",
       "      <td>4343</td>\n",
       "    </tr>\n",
       "    <tr>\n",
       "      <th>16</th>\n",
       "      <td>know</td>\n",
       "      <td>4302</td>\n",
       "    </tr>\n",
       "    <tr>\n",
       "      <th>17</th>\n",
       "      <td>chicken</td>\n",
       "      <td>4201</td>\n",
       "    </tr>\n",
       "    <tr>\n",
       "      <th>18</th>\n",
       "      <td>best</td>\n",
       "      <td>4195</td>\n",
       "    </tr>\n",
       "    <tr>\n",
       "      <th>19</th>\n",
       "      <td>came</td>\n",
       "      <td>3991</td>\n",
       "    </tr>\n",
       "  </tbody>\n",
       "</table>\n",
       "</div>"
      ],
      "text/plain": [
       "          Word  Frequency\n",
       "0         food      15340\n",
       "1         good      14868\n",
       "2         like      12228\n",
       "3         time       9289\n",
       "4        great       9142\n",
       "5      service       8624\n",
       "6       really       7981\n",
       "7          got       5414\n",
       "8         nice       5062\n",
       "9      ordered       4775\n",
       "10      little       4620\n",
       "11      people       4540\n",
       "12        went       4527\n",
       "13  restaurant       4483\n",
       "14      pretty       4410\n",
       "15       order       4343\n",
       "16        know       4302\n",
       "17     chicken       4201\n",
       "18        best       4195\n",
       "19        came       3991"
      ]
     },
     "execution_count": 17,
     "metadata": {},
     "output_type": "execute_result"
    }
   ],
   "source": [
    "# Checking dataframe of frequent words \n",
    "dist"
   ]
  },
  {
   "cell_type": "code",
   "execution_count": 18,
   "id": "c96fd5c0",
   "metadata": {},
   "outputs": [
    {
     "data": {
      "image/png": "[encoded data removed]",
      "text/plain": [
       "<Figure size 640x480 with 1 Axes>"
      ]
     },
     "metadata": {},
     "output_type": "display_data"
    }
   ],
   "source": [
    "# Import relevant libraries\n",
    "import matplotlib.pyplot as plt\n",
    "import numpy as np\n",
    "\n",
    "plt.rcdefaults()\n",
    "fig, ax = plt.subplots()\n",
    "\n",
    "# Creating variables to insert in our plot\n",
    "freq_words = dist.Word\n",
    "y_pos = np.arange(len(freq_words))\n",
    "frequency = dist.Frequency\n",
    "# Creating horizontal bar plot\n",
    "ax.barh(y_pos, frequency , align='center', color ='orange')\n",
    "# adding more information to the plot (labels, titles, ticks)\n",
    "ax.set_yticks(y_pos)\n",
    "ax.set_yticklabels(freq_words)\n",
    "ax.invert_yaxis()  # labels read top-to-bottom\n",
    "ax.set_xlabel('Word frequency')\n",
    "ax.set_title('20 most frequent words in Yelp reviews', fontweight= 'bold', fontsize = 15)\n",
    "\n",
    "plt.show()"
   ]
  },
  {
   "cell_type": "markdown",
   "id": "e7b279f9",
   "metadata": {},
   "source": [
    "### Why people love it?\n",
    "To find out what people love about the service from good positive reviews"
   ]
  },
  {
   "cell_type": "code",
   "execution_count": 21,
   "id": "4fea48dd",
   "metadata": {},
   "outputs": [],
   "source": [
    "# Subsetting dataframe to obtain good reviews (with ratings 4 and 5 only)\n",
    "yelp_good_reviews = yelp_reviews[yelp_reviews[\"Rating\"] >= 4]"
   ]
  },
  {
   "cell_type": "code",
   "execution_count": 22,
   "id": "5864e64b",
   "metadata": {},
   "outputs": [
    {
     "data": {
      "text/plain": [
       "4    5277\n",
       "5    4787\n",
       "Name: Rating, dtype: int64"
      ]
     },
     "execution_count": 22,
     "metadata": {},
     "output_type": "execute_result"
    }
   ],
   "source": [
    "# Check if subsetting was successful\n",
    "yelp_good_reviews.Rating.value_counts()"
   ]
  },
  {
   "cell_type": "code",
   "execution_count": 23,
   "id": "748a04ba",
   "metadata": {},
   "outputs": [],
   "source": [
    "import re"
   ]
  },
  {
   "cell_type": "code",
   "execution_count": 24,
   "id": "7577a44d",
   "metadata": {},
   "outputs": [],
   "source": [
    "from nltk.tokenize import sent_tokenize\n",
    "good_reviews = ' '.join(yelp_good_reviews.Reviews)\n",
    "# split the long string into sentences\n",
    "sentences_good = sent_tokenize(good_reviews)\n",
    "good_token_clean = list()\n",
    "# get tokens for each sentence\n",
    "for sentence in sentences_good:\n",
    "    eng_word = re.findall(r'[A-Za-z\\-]+', sentence)\n",
    "    good_token_clean.append([i.lower() for i in eng_word if i.lower() not in my_stop_words])"
   ]
  },
  {
   "cell_type": "code",
   "execution_count": 25,
   "id": "674114a7",
   "metadata": {},
   "outputs": [
    {
     "name": "stdout",
     "output_type": "stream",
     "text": [
      "[['saturday', 'afternoon', 'time', 'n', 'nwhen', 'walked', 'rambunctious', 'group', 'old', 'ladies', 'talking', 'importance', 'good', 'support', 'bra', 'taking', 'pictures', 'chests'], ['agree'], ['n', 'ni', 'comment', 'price', 'drinks', 'sent', 'guys', 'open', 'tab', 'comment', 'heavy', 'hand', 'poured', 'drinks']]\n"
     ]
    }
   ],
   "source": [
    "#print(sentences_good[:3])\n",
    "print(good_token_clean[:3])"
   ]
  },
  {
   "cell_type": "code",
   "execution_count": 26,
   "id": "dd34365f",
   "metadata": {},
   "outputs": [
    {
     "data": {
      "text/plain": [
       "[('friendly', 0.46082878),\n",
       " ('attentive', 0.041093066),\n",
       " ('great', 0.04052699),\n",
       " ('excellent', 0.03249238),\n",
       " ('prompt', 0.020343376),\n",
       " ('customer', 0.018762872),\n",
       " ('reasonable', 0.017798262),\n",
       " ('knowledgeable', 0.0150790075),\n",
       " ('pleasant', 0.01234419),\n",
       " ('fast', 0.00807068)]"
      ]
     },
     "execution_count": 26,
     "metadata": {},
     "output_type": "execute_result"
    }
   ],
   "source": [
    "# Word2Vec uses a neural network model to learn word associations from the corpus. Here we are trying to find why people love the service\n",
    "from gensim.models import Word2Vec\n",
    "model_ted = Word2Vec(sentences=good_token_clean,vector_size=500, window=10, min_count=1, workers=4, sg=0)\n",
    "model_ted.predict_output_word(['service'], topn=10)"
   ]
  },
  {
   "cell_type": "markdown",
   "id": "0ef99113",
   "metadata": {},
   "source": [
    "seems being friendly and attentive is on of the reasons people love the services being offered as per yelp reviews"
   ]
  },
  {
   "cell_type": "markdown",
   "id": "379487b1",
   "metadata": {},
   "source": [
    "### Vectorization and splitting data"
   ]
  },
  {
   "cell_type": "code",
   "execution_count": 144,
   "id": "7c2a906d",
   "metadata": {},
   "outputs": [],
   "source": [
    "from sklearn.feature_extraction.text import CountVectorizer\n",
    "from sklearn.model_selection import train_test_split\n",
    "# vectorization\n",
    "vect = CountVectorizer(max_features=3000, stop_words=my_stop_words)\n",
    "vect.fit(yelp_reviews.Reviews)\n",
    "X = vect.transform(yelp_reviews.Reviews)\n",
    "X_df = pd.DataFrame(X.toarray(), columns=vect.get_feature_names())\n",
    "# Define the vector of targets and matrix of features\n",
    "y = yelp_reviews.Stars\n",
    "X = X_df\n",
    "# Perform the train-test split\n",
    "X_train, X_test, y_train, y_test = train_test_split(X, y, test_size=0.3, random_state=42, stratify=y)"
   ]
  },
  {
   "cell_type": "markdown",
   "id": "ef2d1e80",
   "metadata": {},
   "source": [
    "## 7. Modelling \n",
    "I used mutiple machine learning algorithms to see which gives the best performance"
   ]
  },
  {
   "cell_type": "code",
   "execution_count": 145,
   "id": "4aef4cb9",
   "metadata": {},
   "outputs": [
    {
     "name": "stdout",
     "output_type": "stream",
     "text": [
      "Confusion Matrix for Multinomial Naive Bayes:\n",
      "[[961 409  85  31  26]\n",
      " [410 628 423 104  59]\n",
      " [135 260 771 373 106]\n",
      " [ 77  70 359 730 347]\n",
      " [103  26  99 419 789]]\n",
      "Score: 49.73\n",
      "Classification Report:               precision    recall  f1-score   support\n",
      "\n",
      "           1       0.57      0.64      0.60      1512\n",
      "           2       0.45      0.39      0.42      1624\n",
      "           3       0.44      0.47      0.46      1645\n",
      "           4       0.44      0.46      0.45      1583\n",
      "           5       0.59      0.55      0.57      1436\n",
      "\n",
      "    accuracy                           0.50      7800\n",
      "   macro avg       0.50      0.50      0.50      7800\n",
      "weighted avg       0.50      0.50      0.50      7800\n",
      "\n"
     ]
    }
   ],
   "source": [
    "# Multinomial Naive Bayes\n",
    "from sklearn.naive_bayes import MultinomialNB\n",
    "mnb = MultinomialNB()\n",
    "mnb.fit(X_train,y_train)\n",
    "predmnb = mnb.predict(X_test)\n",
    "print(\"Confusion Matrix for Multinomial Naive Bayes:\")\n",
    "print(confusion_matrix(y_test,predmnb))\n",
    "print(\"Score:\",round(accuracy_score(y_test,predmnb)*100,2))\n",
    "print(\"Classification Report:\",classification_report(y_test,predmnb))"
   ]
  },
  {
   "cell_type": "code",
   "execution_count": 146,
   "id": "b881f40c",
   "metadata": {},
   "outputs": [
    {
     "name": "stdout",
     "output_type": "stream",
     "text": [
      "Confusion Matrix for Random Forest Classifier:\n",
      "[[1099  267   69   25   52]\n",
      " [ 438  595  382  121   88]\n",
      " [ 166  330  695  306  148]\n",
      " [  87  115  402  559  420]\n",
      " [  98   70  135  353  780]]\n",
      "Score: 47.79\n",
      "Classification Report:               precision    recall  f1-score   support\n",
      "\n",
      "           1       0.58      0.73      0.65      1512\n",
      "           2       0.43      0.37      0.40      1624\n",
      "           3       0.41      0.42      0.42      1645\n",
      "           4       0.41      0.35      0.38      1583\n",
      "           5       0.52      0.54      0.53      1436\n",
      "\n",
      "    accuracy                           0.48      7800\n",
      "   macro avg       0.47      0.48      0.47      7800\n",
      "weighted avg       0.47      0.48      0.47      7800\n",
      "\n"
     ]
    }
   ],
   "source": [
    "# Random Forest\n",
    "from sklearn.ensemble import RandomForestClassifier\n",
    "rmfr = RandomForestClassifier()\n",
    "rmfr.fit(X_train,y_train)\n",
    "predrmfr = rmfr.predict(X_test)\n",
    "print(\"Confusion Matrix for Random Forest Classifier:\")\n",
    "print(confusion_matrix(y_test,predrmfr))\n",
    "print(\"Score:\",round(accuracy_score(y_test,predrmfr)*100,2))\n",
    "print(\"Classification Report:\",classification_report(y_test,predrmfr))"
   ]
  },
  {
   "cell_type": "code",
   "execution_count": 147,
   "id": "40f7bd4f",
   "metadata": {},
   "outputs": [
    {
     "name": "stdout",
     "output_type": "stream",
     "text": [
      "Confusion Matrix for Decision Tree:\n",
      "[[736 360 179 120 117]\n",
      " [368 444 384 253 175]\n",
      " [186 344 522 371 222]\n",
      " [117 214 375 484 393]\n",
      " [ 95 137 202 402 600]]\n",
      "Score: 35.72\n",
      "Classification Report:               precision    recall  f1-score   support\n",
      "\n",
      "           1       0.49      0.49      0.49      1512\n",
      "           2       0.30      0.27      0.28      1624\n",
      "           3       0.31      0.32      0.32      1645\n",
      "           4       0.30      0.31      0.30      1583\n",
      "           5       0.40      0.42      0.41      1436\n",
      "\n",
      "    accuracy                           0.36      7800\n",
      "   macro avg       0.36      0.36      0.36      7800\n",
      "weighted avg       0.36      0.36      0.36      7800\n",
      "\n"
     ]
    }
   ],
   "source": [
    "# Decision Tree\n",
    "from sklearn.tree import DecisionTreeClassifier\n",
    "dt = DecisionTreeClassifier()\n",
    "dt.fit(X_train,y_train)\n",
    "preddt = dt.predict(X_test)\n",
    "print(\"Confusion Matrix for Decision Tree:\")\n",
    "print(confusion_matrix(y_test,preddt))\n",
    "print(\"Score:\",round(accuracy_score(y_test,preddt)*100,2))\n",
    "print(\"Classification Report:\",classification_report(y_test,preddt))"
   ]
  },
  {
   "cell_type": "code",
   "execution_count": 148,
   "id": "8164d51a",
   "metadata": {
    "scrolled": true
   },
   "outputs": [],
   "source": [
    "# Logistic regression\n",
    "from sklearn.linear_model import LogisticRegression\n",
    "log_reg = LogisticRegression(max_iter=1000).fit(X_train, y_train)\n",
    "y_pred_lg = log_reg.predict(X_test)\n",
    "# find the most informative words\n",
    "log_odds = log_reg.coef_[0]\n",
    "coeff = pd.DataFrame(log_odds, X.columns, columns=['coef'])\\\n",
    "            .sort_values(by='coef', ascending=False)"
   ]
  },
  {
   "cell_type": "code",
   "execution_count": 149,
   "id": "6af8297b",
   "metadata": {},
   "outputs": [],
   "source": [
    "# Create a hyperparameter grid for LogisiticRegression \n",
    "\n",
    "log_reg_grid= {\"C\": np.logspace(-4,4,20),\n",
    "              \"solver\": [\"liblinear\"]}\n",
    "\n",
    "# Create a hyperparameter grid for RandomForestClassifier\n",
    "rf_grid = {\"n_estimators\": np.arange(10,1000, 50),\n",
    "          \"max_depth\": [None, 3, 5,10],\n",
    "          \"min_samples_split\": np.arange(2,20,2),\n",
    "          \"min_samples_leaf\": np.arange(1,20,2)}"
   ]
  },
  {
   "cell_type": "code",
   "execution_count": 154,
   "id": "685bfe3a",
   "metadata": {},
   "outputs": [
    {
     "name": "stdout",
     "output_type": "stream",
     "text": [
      "Fitting 5 folds for each of 30 candidates, totalling 150 fits\n"
     ]
    }
   ],
   "source": [
    "# Using GridSearchCV\n",
    "# Different hyperparameter for our LogisticRegression model \n",
    "log_reg_grid = {\"C\": np.logspace(-4, 4, 30),\n",
    "               \"solver\": [\"liblinear\"]}\n",
    "\n",
    "# Setup grid hyperparameter search for LogisticRegression\n",
    "gs_log_reg = GridSearchCV(LogisticRegression(max_iter=1000),\n",
    "                         param_grid= log_reg_grid,\n",
    "                         cv=5,\n",
    "                         verbose=True)\n",
    "\n",
    "# Fit the grid hyperparameter search model\n",
    "gs_log_reg.fit(X_train, y_train);"
   ]
  },
  {
   "cell_type": "code",
   "execution_count": 155,
   "id": "8c488ceb",
   "metadata": {},
   "outputs": [
    {
     "data": {
      "text/plain": [
       "{'C': 0.01610262027560939, 'solver': 'liblinear'}"
      ]
     },
     "execution_count": 155,
     "metadata": {},
     "output_type": "execute_result"
    }
   ],
   "source": [
    "# Check the best hyperparameters\n",
    "gs_log_reg.best_params_"
   ]
  },
  {
   "cell_type": "code",
   "execution_count": 156,
   "id": "1341d71b",
   "metadata": {},
   "outputs": [
    {
     "data": {
      "text/plain": [
       "0.5134615384615384"
      ]
     },
     "execution_count": 156,
     "metadata": {},
     "output_type": "execute_result"
    }
   ],
   "source": [
    "# Evaluate the grid search LogisticRegression model \n",
    "gs_log_reg.score(X_test, y_test)"
   ]
  },
  {
   "cell_type": "markdown",
   "id": "40010bd8",
   "metadata": {},
   "source": [
    "## 8. Results so far\n",
    "\n",
    "* Multinomial Naive Bayes : 49.73%\n",
    "* Random Forest: 47.79%\n",
    "* Decision Tree: 35.72%\n",
    "* Logistic regression: 51.34%\n",
    "\n",
    "Unfortunately I have not been able to hit my model accuracy target of 80%.My suggestions to improve model performance are:\n",
    "1. Use GridSearchCV to improve each model performance\n",
    "2. Look into removing special characters in review data \n",
    "4. Look at performance of other models\n",
    "\n",
    "Because the models have performed poorly... I do not have confidence that they will predict correct star ratings..... I believe that given the opportunity in this program I will be able to identify ways to improve model performances for textual analysis given that it is my first time conducting this analysis."
   ]
  },
  {
   "cell_type": "code",
   "execution_count": null,
   "id": "53126b3c",
   "metadata": {},
   "outputs": [],
   "source": []
  }
 ],
 "metadata": {
  "kernelspec": {
   "display_name": "Python 3",
   "language": "python",
   "name": "python3"
  },
  "language_info": {
   "codemirror_mode": {
    "name": "ipython",
    "version": 3
   },
   "file_extension": ".py",
   "mimetype": "text/x-python",
   "name": "python",
   "nbconvert_exporter": "python",
   "pygments_lexer": "ipython3",
   "version": "3.9.5"
  }
 },
 "nbformat": 4,
 "nbformat_minor": 5
}
